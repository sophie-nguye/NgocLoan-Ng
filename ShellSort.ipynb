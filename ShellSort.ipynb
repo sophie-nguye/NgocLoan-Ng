{
 "cells": [
  {
   "cell_type": "code",
   "execution_count": 19,
   "id": "incomplete-yield",
   "metadata": {},
   "outputs": [],
   "source": [
    "def ShellSort(arr):\n",
    "    n = len(arr)\n",
    "    \n",
    "    # create the largest (3x+1) increment\n",
    "    h = 1\n",
    "    while (h < (n/3)):\n",
    "        h = 3*h + 1\n",
    "    \n",
    "    while (h >= 1) :\n",
    "    # insertion sort:\n",
    "        for i in range (h,n):                 \n",
    "            j = i-h\n",
    "            if arr[i] < arr[j]:\n",
    "                arr[i], arr[j] = arr[j], arr[i]\n",
    "            while (j>0):\n",
    "                if arr[j] < arr[j-h]:\n",
    "                    arr[j], arr[j-h] = arr[j-h], arr[j]\n",
    "                j-=h\n",
    "        # move to the next increment:\n",
    "        h = h//3\n",
    "    \n",
    "    return(arr)     \n",
    "    "
   ]
  },
  {
   "cell_type": "code",
   "execution_count": 20,
   "id": "leading-money",
   "metadata": {},
   "outputs": [
    {
     "name": "stdout",
     "output_type": "stream",
     "text": [
      "[24 43 56 68 18 41 72 17 96 65 35 65 54 63 19 83 85 66 81  5  0 61 60 74\n",
      " 46 51 49 58 42  5 61 63 50 33 56  1 58 24 37 38 32 13 70 90 55 34 47 74\n",
      " 77 70]\n"
     ]
    }
   ],
   "source": [
    "import numpy as np\n",
    "array = np.random.randint(0,100,(50))\n",
    "print(array)"
   ]
  },
  {
   "cell_type": "code",
   "execution_count": 21,
   "id": "choice-momentum",
   "metadata": {},
   "outputs": [
    {
     "data": {
      "text/plain": [
       "array([ 0,  1,  5,  5, 13, 17, 18, 19, 24, 24, 32, 33, 34, 35, 37, 38, 41,\n",
       "       42, 43, 46, 47, 49, 50, 51, 54, 55, 56, 56, 58, 58, 60, 61, 61, 63,\n",
       "       63, 65, 65, 66, 68, 70, 70, 72, 74, 74, 77, 81, 83, 85, 90, 96])"
      ]
     },
     "execution_count": 21,
     "metadata": {},
     "output_type": "execute_result"
    }
   ],
   "source": [
    "ShellSort(array)"
   ]
  }
 ],
 "metadata": {
  "kernelspec": {
   "display_name": "Python 3",
   "language": "python",
   "name": "python3"
  },
  "language_info": {
   "codemirror_mode": {
    "name": "ipython",
    "version": 3
   },
   "file_extension": ".py",
   "mimetype": "text/x-python",
   "name": "python",
   "nbconvert_exporter": "python",
   "pygments_lexer": "ipython3",
   "version": "3.8.5"
  }
 },
 "nbformat": 4,
 "nbformat_minor": 5
}
